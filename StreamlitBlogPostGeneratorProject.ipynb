{
 "cells": [
  {
   "cell_type": "code",
   "execution_count": 2,
   "metadata": {},
   "outputs": [],
   "source": [
    "import os \n",
    "import streamlit as st\n",
    "from langchain_openai import OpenAI\n",
    "from langchain_core.prompts import PromptTemplate\n",
    "from dotenv import load_dotenv, find_dotenv \n",
    "_ = load_dotenv(find_dotenv())\n",
    "openai_api_key = os.environ[\"OPENAI_API_KEY\"]"
   ]
  },
  {
   "cell_type": "code",
   "execution_count": 3,
   "metadata": {},
   "outputs": [
    {
     "name": "stderr",
     "output_type": "stream",
     "text": [
      "2025-10-16 13:11:26.560 \n",
      "  \u001b[33m\u001b[1mWarning:\u001b[0m to view this Streamlit app on a browser, run it with the following\n",
      "  command:\n",
      "\n",
      "    streamlit run C:\\Users\\19194\\AppData\\Local\\pypoetry\\Cache\\virtualenvs\\002-streamlit-blog-post-generator-uvkCqVro-py3.11\\Lib\\site-packages\\ipykernel_launcher.py [ARGUMENTS]\n",
      "2025-10-16 13:11:26.561 Session state does not function when running a script without `streamlit run`\n"
     ]
    }
   ],
   "source": [
    "st.set_page_config(\n",
    "    page_title= \"Tariq's Blog Post Generator\"\n",
    ")\n",
    "\n",
    "st.title(\"Tariq's Blog Post Generator\")\n",
    "\n",
    "openai_api_key = st.sidebar.text_input(\n",
    "    label = \"OpenAI API Key\",\n",
    "    type = \"password\")"
   ]
  },
  {
   "cell_type": "code",
   "execution_count": null,
   "metadata": {},
   "outputs": [],
   "source": [
    "def generate_response(topic):\n",
    "    llm = OpenAI(openai_api_key = openai_api_key)\n",
    "    template = \"\"\"\n",
    "    As an experienced start-up and venture capitalist writer,\n",
    "    generate a 400-word blog post about {topic}\n",
    "    \n",
    "    Your response whould be in this format:\n",
    "    First, print the blog post.\n",
    "    Then, sum the total number of words on it and print the results like this: This post has x words.\n",
    "    \"\"\"\n",
    "    \n",
    "    prompt = PromptTemplate(\n",
    "        input_variables = [\"topic\"],\n",
    "        template = template\n",
    "    )\n",
    "    query = prompt.format(topic=topic)\n",
    "    response = llm(query, max_tokens=2048)\n",
    "    return st.write(response)\n",
    "\n",
    "topic_text = st.text_input(\"Enter topic: \")\n",
    "if not openai_api_key.startswith(\"sk-\"):\n",
    "    st.warning(\"Enter Open AI Key\")\n",
    "if openai_api_key.startswith(\"sk-\"):\n",
    "    generate_response(topic_text)"
   ]
  }
 ],
 "metadata": {
  "kernelspec": {
   "display_name": "Blog Post Generator",
   "language": "python",
   "name": "streamlit-blog-post-generator"
  },
  "language_info": {
   "codemirror_mode": {
    "name": "ipython",
    "version": 3
   },
   "file_extension": ".py",
   "mimetype": "text/x-python",
   "name": "python",
   "nbconvert_exporter": "python",
   "pygments_lexer": "ipython3",
   "version": "3.11.4"
  }
 },
 "nbformat": 4,
 "nbformat_minor": 2
}
